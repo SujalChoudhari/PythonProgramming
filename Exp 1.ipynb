{
 "cells": [
  {
   "cell_type": "markdown",
   "id": "4eacf74b",
   "metadata": {},
   "source": [
    "## Q1: Name and Surname"
   ]
  },
  {
   "cell_type": "code",
   "execution_count": 10,
   "id": "27e99624",
   "metadata": {},
   "outputs": [
    {
     "name": "stdout",
     "output_type": "stream",
     "text": [
      "First Name: Sujal\n",
      "Last Name: Choudhri\n",
      "That means your name is Sujal Choudhri\n"
     ]
    }
   ],
   "source": [
    "name = input(\"First Name: \")\n",
    "surn = input(\"Last Name: \")\n",
    "\n",
    "print(\"That means your name is\",name, surn) # print"
   ]
  },
  {
   "cell_type": "markdown",
   "id": "c1275dba",
   "metadata": {},
   "source": [
    "## Q2: Polynomial"
   ]
  },
  {
   "cell_type": "code",
   "execution_count": 11,
   "id": "ffae11d8",
   "metadata": {},
   "outputs": [
    {
     "data": {
      "text/plain": [
       "23.231625"
      ]
     },
     "execution_count": 11,
     "metadata": {},
     "output_type": "execute_result"
    }
   ],
   "source": [
    "x = 2.55\n",
    "3*x**3-5*x**2+6"
   ]
  },
  {
   "cell_type": "markdown",
   "id": "6e028934",
   "metadata": {},
   "source": [
    "## Q3: Middle 3"
   ]
  },
  {
   "cell_type": "code",
   "execution_count": 15,
   "id": "844ef9fd",
   "metadata": {},
   "outputs": [
    {
     "name": "stdout",
     "output_type": "stream",
     "text": [
      "Enter String: Hello\n"
     ]
    },
    {
     "data": {
      "text/plain": [
       "'ell'"
      ]
     },
     "execution_count": 15,
     "metadata": {},
     "output_type": "execute_result"
    }
   ],
   "source": [
    "x = input(\"Enter String: \")\n",
    "mid = len(x) //2\n",
    "x[mid-1:mid+2]"
   ]
  },
  {
   "cell_type": "markdown",
   "id": "b615817f",
   "metadata": {},
   "source": [
    "## Q4: Lowercase First"
   ]
  },
  {
   "cell_type": "code",
   "execution_count": 43,
   "id": "38c7a629",
   "metadata": {},
   "outputs": [
    {
     "data": {
      "text/plain": [
       "'ynhTPO'"
      ]
     },
     "execution_count": 43,
     "metadata": {},
     "output_type": "execute_result"
    }
   ],
   "source": [
    "x = \"PyThOn\"\n",
    "\"\".join(sorted(x,reverse=True))"
   ]
  },
  {
   "cell_type": "markdown",
   "id": "169cdc82",
   "metadata": {},
   "source": [
    "## Q5: Count Letters and Numbers and Specials"
   ]
  },
  {
   "cell_type": "code",
   "execution_count": 69,
   "id": "f4f21946",
   "metadata": {},
   "outputs": [
    {
     "name": "stdout",
     "output_type": "stream",
     "text": [
      "Given String7463cvb\n"
     ]
    }
   ],
   "source": [
    "x = input(\"Given String\")\n",
    "char_count = 0\n",
    "num_count = 0\n",
    "special_count = 0\n",
    "for char in x:\n",
    "    if(char >= 'a' and char <= 'z'): char_count +=1\n",
    "    elif(char.isnumeric()): num_count +=1\n",
    "    else: special_count += 1\n",
    "        "
   ]
  },
  {
   "cell_type": "code",
   "execution_count": 70,
   "id": "bd97ad1d",
   "metadata": {},
   "outputs": [
    {
     "data": {
      "text/plain": [
       "(3, 4, 0)"
      ]
     },
     "execution_count": 70,
     "metadata": {},
     "output_type": "execute_result"
    }
   ],
   "source": [
    "char_count, num_count, special_count"
   ]
  },
  {
   "cell_type": "markdown",
   "id": "c0d0794b",
   "metadata": {},
   "source": [
    "## Q6: All the Occurences"
   ]
  },
  {
   "cell_type": "code",
   "execution_count": 38,
   "id": "70646193",
   "metadata": {},
   "outputs": [
    {
     "name": "stdout",
     "output_type": "stream",
     "text": [
      "All the occurences ofqqqqqqqqqqqqqqqaaa\n"
     ]
    },
    {
     "data": {
      "text/plain": [
       "{'q': 15, 'a': 3}"
      ]
     },
     "execution_count": 38,
     "metadata": {},
     "output_type": "execute_result"
    }
   ],
   "source": [
    "x = input(\"All the occurences of\")\n",
    "d = {}\n",
    "\n",
    "for char in x:\n",
    "    if char not in d:\n",
    "        d[char] = 1\n",
    "    else:\n",
    "        d[char] += 1\n",
    "        \n",
    "d"
   ]
  },
  {
   "cell_type": "markdown",
   "id": "969127b7",
   "metadata": {},
   "source": [
    "## Q7: Last Position of Rama"
   ]
  },
  {
   "cell_type": "code",
   "execution_count": 51,
   "id": "a22fa5b9",
   "metadata": {},
   "outputs": [
    {
     "data": {
      "text/plain": [
       "8"
      ]
     },
     "execution_count": 51,
     "metadata": {},
     "output_type": "execute_result"
    }
   ],
   "source": [
    "x = \"Rama re Rama\"\n",
    "\n",
    "x.rindex(\"Rama\")"
   ]
  },
  {
   "cell_type": "markdown",
   "id": "aca8e74b",
   "metadata": {},
   "source": [
    "## Q8: Remove all characters excpt numbers"
   ]
  },
  {
   "cell_type": "code",
   "execution_count": 64,
   "id": "d2642ec1",
   "metadata": {},
   "outputs": [
    {
     "data": {
      "text/plain": [
       "'123'"
      ]
     },
     "execution_count": 64,
     "metadata": {},
     "output_type": "execute_result"
    }
   ],
   "source": [
    "x = \"this has numbers 1a2b3c fgdfg\"\n",
    "\n",
    "y = \"\"\n",
    "\n",
    "for c in x:\n",
    "    if c.isnumeric():\n",
    "        y += c\n",
    "        \n",
    "        \n",
    "y"
   ]
  },
  {
   "cell_type": "markdown",
   "id": "339fd7fe",
   "metadata": {},
   "source": [
    "## Q9: Replace special with #"
   ]
  },
  {
   "cell_type": "code",
   "execution_count": 83,
   "id": "f4586002",
   "metadata": {},
   "outputs": [],
   "source": [
    "x = \"hjdfs jhh&^&^%^&%hbjhhb!53256\"\n",
    "y = \"\""
   ]
  },
  {
   "cell_type": "code",
   "execution_count": 84,
   "id": "f9ae72d0",
   "metadata": {},
   "outputs": [],
   "source": [
    "for c in x:\n",
    "    if c.upper() == c.lower() and not c.isnumeric():\n",
    "        y += \"#\"\n",
    "    else:\n",
    "        y += c"
   ]
  },
  {
   "cell_type": "code",
   "execution_count": 85,
   "id": "3ff547ab",
   "metadata": {},
   "outputs": [
    {
     "data": {
      "text/plain": [
       "'hjdfs#jhh########hbjhhb#53256'"
      ]
     },
     "execution_count": 85,
     "metadata": {},
     "output_type": "execute_result"
    }
   ],
   "source": [
    "y"
   ]
  },
  {
   "cell_type": "markdown",
   "id": "ee46d9d7",
   "metadata": {},
   "source": [
    "## Q10: Replace blank with - in Sentence"
   ]
  },
  {
   "cell_type": "code",
   "execution_count": 87,
   "id": "a2dff79e",
   "metadata": {},
   "outputs": [
    {
     "data": {
      "text/plain": [
       "'Hello-this-is-my-test'"
      ]
     },
     "execution_count": 87,
     "metadata": {},
     "output_type": "execute_result"
    }
   ],
   "source": [
    "x = \"Hello this is my test\"\n",
    "x = x.replace(\" \",\"-\")\n",
    "x"
   ]
  }
 ],
 "metadata": {
  "kernelspec": {
   "display_name": "Python 3",
   "language": "python",
   "name": "python3"
  },
  "language_info": {
   "codemirror_mode": {
    "name": "ipython",
    "version": 3
   },
   "file_extension": ".py",
   "mimetype": "text/x-python",
   "name": "python",
   "nbconvert_exporter": "python",
   "pygments_lexer": "ipython3",
   "version": "3.8.8"
  }
 },
 "nbformat": 4,
 "nbformat_minor": 5
}
