{
  "cells": [
    {
      "cell_type": "markdown",
      "metadata": {
        "id": "iQCBV3xgR3jn"
      },
      "source": [
        "Questions for write-up:\n",
        "*   What does Python's init function do?\n",
        "*   What is the purpose of the super() function in Python?\n",
        "*   How do you implement multiple inheritance in Python?\n",
        "*   What is the constructor in a Python class"
      ]
    },
    {
      "cell_type": "markdown",
      "metadata": {},
      "source": [
        "## Excercise"
      ]
    },
    {
      "cell_type": "markdown",
      "metadata": {},
      "source": [
        "*   Write a pgm to create a person ..."
      ]
    },
    {
      "cell_type": "code",
      "execution_count": 4,
      "metadata": {},
      "outputs": [
        {
          "data": {
            "text/plain": [
              "'20 is my age'"
            ]
          },
          "execution_count": 4,
          "metadata": {},
          "output_type": "execute_result"
        }
      ],
      "source": [
        "class Person:\n",
        "    name = \"Sujal\"\n",
        "    con = \"India\"\n",
        "    dob = (21,2,2004)\n",
        "    \n",
        "    @property\n",
        "    def age(self):\n",
        "        return f\"{2024 - self.dob[2] } is my age\"\n",
        "    \n",
        "    \n",
        "obj = Person()\n",
        "obj.age"
      ]
    },
    {
      "cell_type": "markdown",
      "metadata": {},
      "source": [
        "*   Create a class Rectangle. The class has 2 attributes, length and width, each of which defaults to 0. It has methods to calculate the perimeter and area of the rectangle. It has set and get methods for both length and width. The set method should verify that length and width are floating point numbers larger than 0.0 and less than 20.0\n"
      ]
    },
    {
      "cell_type": "code",
      "execution_count": 2,
      "metadata": {},
      "outputs": [],
      "source": [
        "class Rectangle:\n",
        "    _width = 0\n",
        "    _length = 0\n",
        "    \n",
        "    def perimeter(self):\n",
        "        return 2 * self._width + 2 * self._length\n",
        "    \n",
        "    def area(self):\n",
        "        return self._width * self._length\n",
        "    \n",
        "    @property\n",
        "    def width(self):\n",
        "        return self._width\n",
        "    \n",
        "    @property\n",
        "    def length(self):\n",
        "        return self._length\n",
        "    \n",
        "    \n",
        "    @width.setter\n",
        "    def width(self,value):\n",
        "        if isinstance(value,float) and value > 0.0 and value < 20.0:\n",
        "            self._width = value\n",
        "        else:\n",
        "            raise TypeError( \"Width is not satisfying the condition\")\n",
        "        \n",
        "        \n",
        "    @length.setter\n",
        "    def length(self,value):\n",
        "        if isinstance(value,float) and value > 0.0 and value < 20.0:\n",
        "            self._length = value\n",
        "        else:\n",
        "            raise ArithmeticError(\"Length is not satisfying the condition\")\n",
        "             \n",
        "            "
      ]
    },
    {
      "cell_type": "code",
      "execution_count": 3,
      "metadata": {},
      "outputs": [
        {
          "ename": "TypeError",
          "evalue": "Width is not satisfying the condition",
          "output_type": "error",
          "traceback": [
            "\u001b[0;31m---------------------------------------------------------------------------\u001b[0m",
            "\u001b[0;31mTypeError\u001b[0m                                 Traceback (most recent call last)",
            "Cell \u001b[0;32mIn[3], line 2\u001b[0m\n\u001b[1;32m      1\u001b[0m rect \u001b[38;5;241m=\u001b[39m Rectangle()\n\u001b[0;32m----> 2\u001b[0m \u001b[43mrect\u001b[49m\u001b[38;5;241;43m.\u001b[39;49m\u001b[43mwidth\u001b[49m \u001b[38;5;241m=\u001b[39m \u001b[38;5;241m34\u001b[39m\n\u001b[1;32m      3\u001b[0m rect\u001b[38;5;241m.\u001b[39mlength \u001b[38;5;241m=\u001b[39m \u001b[38;5;241m44\u001b[39m\n",
            "Cell \u001b[0;32mIn[2], line 25\u001b[0m, in \u001b[0;36mRectangle.width\u001b[0;34m(self, value)\u001b[0m\n\u001b[1;32m     23\u001b[0m     \u001b[38;5;28mself\u001b[39m\u001b[38;5;241m.\u001b[39m_width \u001b[38;5;241m=\u001b[39m value\n\u001b[1;32m     24\u001b[0m \u001b[38;5;28;01melse\u001b[39;00m:\n\u001b[0;32m---> 25\u001b[0m     \u001b[38;5;28;01mraise\u001b[39;00m \u001b[38;5;167;01mTypeError\u001b[39;00m( \u001b[38;5;124m\"\u001b[39m\u001b[38;5;124mWidth is not satisfying the condition\u001b[39m\u001b[38;5;124m\"\u001b[39m)\n",
            "\u001b[0;31mTypeError\u001b[0m: Width is not satisfying the condition"
          ]
        }
      ],
      "source": [
        "rect = Rectangle()\n",
        "rect.width = 34\n",
        "rect.length = 44\n"
      ]
    },
    {
      "cell_type": "code",
      "execution_count": null,
      "metadata": {},
      "outputs": [
        {
          "data": {
            "text/plain": [
              "(59.99999699999999, 45.999998)"
            ]
          },
          "execution_count": 62,
          "metadata": {},
          "output_type": "execute_result"
        }
      ],
      "source": [
        "rect = Rectangle()\n",
        "rect.width = 19.999999\n",
        "rect.length = 3.0\n",
        "\n",
        "rect.area(), rect.perimeter()"
      ]
    },
    {
      "cell_type": "markdown",
      "metadata": {},
      "source": [
        "*   WAP to arrange the names of students in descending order of their totalmarks, input data consists of student’s details such as names, ID. no, marks of math, physics, and chemistry.\n"
      ]
    },
    {
      "cell_type": "code",
      "execution_count": null,
      "metadata": {},
      "outputs": [],
      "source": [
        "class Student:\n",
        "    def __init__(self,name:str,id:int,maths:int,phy:int,chem:int) -> None:\n",
        "        self.name = name\n",
        "        self.id = id\n",
        "        self.maths = maths\n",
        "        self.phy = phy\n",
        "        self.chem = chem\n",
        "        \n",
        "    def __repr__(self) -> str:\n",
        "        return f\"{self.id}: {self.name} \"\n",
        "        \n",
        "    @staticmethod\n",
        "    def arrange(students:list):\n",
        "        return students.sort(key=lambda s: s.name)"
      ]
    },
    {
      "cell_type": "code",
      "execution_count": null,
      "metadata": {},
      "outputs": [
        {
          "data": {
            "text/plain": [
              "[1: Hello , 1: Hello1 , 1: Hello2 , 1: Hello4 , 1: Hello5 ]"
            ]
          },
          "execution_count": 86,
          "metadata": {},
          "output_type": "execute_result"
        }
      ],
      "source": [
        "studs = [\n",
        "    Student(\"Hello\",1,4, 5, 6),\n",
        "    Student(\"Hello2\",1,4, 5, 6),\n",
        "    Student(\"Hello4\",1,4, 5, 6),\n",
        "    Student(\"Hello5\",1,4, 5, 6),\n",
        "    Student(\"Hello1\",1,4, 5, 6),\n",
        "]\n",
        "\n",
        "Student.arrange(studs)\n",
        "studs"
      ]
    },
    {
      "cell_type": "markdown",
      "metadata": {},
      "source": [
        "*   WAP to display area of square and rectangle using constructor."
      ]
    },
    {
      "cell_type": "code",
      "execution_count": null,
      "metadata": {},
      "outputs": [],
      "source": [
        "class Display():\n",
        "    def __init__(self,*params) -> None:\n",
        "        print(f\"Area of square: {params[0]* (params[1] if len(params) == 2 else params[0])}\")\n",
        "        \n",
        "        \n"
      ]
    },
    {
      "cell_type": "code",
      "execution_count": null,
      "metadata": {},
      "outputs": [
        {
          "name": "stdout",
          "output_type": "stream",
          "text": [
            "Area of square: 20\n",
            "Area of square: 9\n"
          ]
        },
        {
          "data": {
            "text/plain": [
              "<__main__.Display at 0x7fb939552e90>"
            ]
          },
          "execution_count": 57,
          "metadata": {},
          "output_type": "execute_result"
        }
      ],
      "source": [
        "Display(4,5)\n",
        "Display(3)"
      ]
    },
    {
      "cell_type": "markdown",
      "metadata": {},
      "source": [
        "Shopping Cart"
      ]
    },
    {
      "cell_type": "code",
      "execution_count": null,
      "metadata": {},
      "outputs": [],
      "source": [
        "class Kart:\n",
        "    items :list= []\n",
        "    \n",
        "    def __init__(self) -> None:\n",
        "        pass\n",
        "    \n",
        "    def add(self,item:str) -> None:\n",
        "        self.items.append(item)\n",
        "        \n",
        "    def remove(self,item:str) -> None:\n",
        "        self.items.remove(item)\n",
        "        \n",
        "    def __repr__(self) -> str:\n",
        "        return str(self.items)"
      ]
    },
    {
      "cell_type": "code",
      "execution_count": null,
      "metadata": {},
      "outputs": [
        {
          "data": {
            "text/plain": [
              "['q1', 'q2']"
            ]
          },
          "execution_count": 82,
          "metadata": {},
          "output_type": "execute_result"
        }
      ],
      "source": [
        "kart = Kart()\n",
        "kart.add(\"q1\")\n",
        "kart.add(\"q2\")\n",
        "\n",
        "kart"
      ]
    },
    {
      "cell_type": "code",
      "execution_count": null,
      "metadata": {},
      "outputs": [
        {
          "data": {
            "text/plain": [
              "['q2']"
            ]
          },
          "execution_count": 83,
          "metadata": {},
          "output_type": "execute_result"
        }
      ],
      "source": [
        "kart.remove(\"q1\")\n",
        "kart"
      ]
    }
  ],
  "metadata": {
    "colab": {
      "provenance": []
    },
    "kernelspec": {
      "display_name": "Python 3",
      "language": "python",
      "name": "python3"
    },
    "language_info": {
      "codemirror_mode": {
        "name": "ipython",
        "version": 3
      },
      "file_extension": ".py",
      "mimetype": "text/x-python",
      "name": "python",
      "nbconvert_exporter": "python",
      "pygments_lexer": "ipython3",
      "version": "3.10.13"
    }
  },
  "nbformat": 4,
  "nbformat_minor": 0
}
