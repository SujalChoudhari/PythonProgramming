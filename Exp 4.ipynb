{
  "cells": [
    {
      "cell_type": "markdown",
      "metadata": {},
      "source": [
        "### Sujal Choudhari         \n",
        "#### 60003220216\n",
        "### IT3 (2)                 \n",
        "#### Python Programming Lab (4)"
      ]
    },
    {
      "cell_type": "markdown",
      "metadata": {},
      "source": [
        "Questions for Practical Assignment Submission"
      ]
    },
    {
      "cell_type": "markdown",
      "metadata": {},
      "source": [
        "- WA function to calculate arithmetic mean of variable number of values \n",
        "\n",
        "- WA lambda function to find largest of 2 numbers \n",
        "\n",
        "- Use lambda function to return a square value of a given number. \n",
        "\n",
        "- Write a program using filter() to filter out even numbers from a list. \n",
        "\n",
        "- Write a program using map() to filter out even numbers from a list. \n",
        "\n",
        "- Write a program using reduce() with a lambda expression to find product of elements in a list. "
      ]
    },
    {
      "cell_type": "markdown",
      "metadata": {},
      "source": [
        "Questions for Write-up\n",
        "\n",
        "1. Describe how lambda functions differ from regular functions in terms of syntax.\n",
        "2. Need for Lamda and higher order functions \n",
        "3. What is the purpose of Python's map function?\n",
        "4. How is the reduce function different from map and filter?"
      ]
    },
    {
      "cell_type": "markdown",
      "metadata": {},
      "source": [
        "### 1. WA function to calculate arithmetic mean of variable number of values "
      ]
    },
    {
      "cell_type": "code",
      "execution_count": 3,
      "metadata": {},
      "outputs": [],
      "source": [
        "import functools\n",
        "\n",
        "def mean ( *args):\n",
        "    sum = functools.reduce(lambda x,y: x + y,args)\n",
        "    print(sum / len(args))"
      ]
    },
    {
      "cell_type": "code",
      "execution_count": 4,
      "metadata": {},
      "outputs": [
        {
          "name": "stdout",
          "output_type": "stream",
          "text": [
            "53.357142857142854\n"
          ]
        }
      ],
      "source": [
        "mean(5,6,7,8,65,4,43,43,4,4,4,5,545,4)"
      ]
    },
    {
      "cell_type": "markdown",
      "metadata": {},
      "source": [
        "### 2. WA lambda function to find largest of 2 numbers "
      ]
    },
    {
      "cell_type": "code",
      "execution_count": 3,
      "metadata": {},
      "outputs": [
        {
          "data": {
            "text/plain": [
              "6"
            ]
          },
          "execution_count": 3,
          "metadata": {},
          "output_type": "execute_result"
        }
      ],
      "source": [
        "x = lambda x,y: x if x > y else y\n",
        "x(5,6)"
      ]
    },
    {
      "cell_type": "markdown",
      "metadata": {},
      "source": [
        "### 3. Use lambda function to return a square value of a given number. \n"
      ]
    },
    {
      "cell_type": "code",
      "execution_count": 4,
      "metadata": {},
      "outputs": [
        {
          "data": {
            "text/plain": [
              "25"
            ]
          },
          "execution_count": 4,
          "metadata": {},
          "output_type": "execute_result"
        }
      ],
      "source": [
        "b = lambda x: x ** 2\n",
        "b(5)"
      ]
    },
    {
      "cell_type": "markdown",
      "metadata": {},
      "source": [
        "### 4. Write a program using filter() to filter out even numbers from a list. \n"
      ]
    },
    {
      "cell_type": "code",
      "execution_count": 5,
      "metadata": {},
      "outputs": [
        {
          "data": {
            "text/plain": [
              "[6, 4, 32, 2, 2, 0, 2]"
            ]
          },
          "execution_count": 5,
          "metadata": {},
          "output_type": "execute_result"
        }
      ],
      "source": [
        "lst = [5,6,7,4,3,32,2,2,0,2]\n",
        "\n",
        "list(filter(lambda x: x % 2 ==0,lst))"
      ]
    },
    {
      "cell_type": "markdown",
      "metadata": {},
      "source": [
        "### 5. Write a program using map() to filter out even numbers from a list. \n"
      ]
    },
    {
      "cell_type": "code",
      "execution_count": 15,
      "metadata": {},
      "outputs": [
        {
          "data": {
            "text/plain": [
              "[4, 6, 8, 0, 2]"
            ]
          },
          "execution_count": 15,
          "metadata": {},
          "output_type": "execute_result"
        }
      ],
      "source": [
        "lst = [4,5,6,7,8,9,0,1,2,3]\n",
        "\n",
        "# mapped = [a for a in list(map(lambda x: x if x % 2 == 0 else None,lst)) if a is not None]\n",
        "# mapped = [a for a in list(map(lambda x: x if x % 2 == 0 else None,lst)) if a is not None]\n",
        "mapped = [a for a in list(map(lambda x: x if x % 2 == 0 else None,lst)) if a is not None]\n",
        "\n",
        "mapped"
      ]
    },
    {
      "cell_type": "markdown",
      "metadata": {},
      "source": [
        "### 6. Write a program using reduce() with a lambda expression to find product of elements in a list. "
      ]
    },
    {
      "cell_type": "code",
      "execution_count": 7,
      "metadata": {},
      "outputs": [
        {
          "data": {
            "text/plain": [
              "362880"
            ]
          },
          "execution_count": 7,
          "metadata": {},
          "output_type": "execute_result"
        }
      ],
      "source": [
        "import functools\n",
        "lst2 = [1,2,3,4,5,6,7,8,9]\n",
        "functools.reduce(lambda x,y: x * y,lst2)"
      ]
    },
    {
      "cell_type": "markdown",
      "metadata": {},
      "source": [
        "# Questions\n"
      ]
    },
    {
      "cell_type": "markdown",
      "metadata": {},
      "source": [
        "Write a Python program, which returns a list with 2-tuples. Each tuple consists of a the order number and the product of the price per items and the quantity. The product should be increased by 10,- € if the value of the order is smaller than 100,00 €. Write a Python program using lambda and map."
      ]
    },
    {
      "cell_type": "code",
      "execution_count": 21,
      "metadata": {},
      "outputs": [
        {
          "name": "stdout",
          "output_type": "stream",
          "text": [
            "[(1, 210), (2, 15000), (3, 130)]\n"
          ]
        }
      ],
      "source": [
        "orders = [(1, 10, 20), (2, 500, 30), (3, 8, 15)]  # id, price, quantity\n",
        "result = list(map(lambda x: (x[0], x[1] * x[2] if x[1] * x[2] >= 10000 else x[1] * x[2] + 10), orders))\n",
        "print(result)"
      ]
    },
    {
      "cell_type": "markdown",
      "metadata": {},
      "source": [
        "The same bookshop, but this time we work on a different list. The sublists of our lists look like this: [ordernumber, (article number, quantity, price per unit), ... (article number, quantity, price per unit) ] Write a program which returns a list of two tuples with (order number, total amount of order)."
      ]
    },
    {
      "cell_type": "code",
      "execution_count": 28,
      "metadata": {},
      "outputs": [
        {
          "name": "stdout",
          "output_type": "stream",
          "text": [
            "[(1, 135), (2, 100)]\n"
          ]
        }
      ],
      "source": [
        "orders = [[1, (151, 2, 30), (152, 5, 15)], [2, (103, 10, 8), (104, 4, 5)]]\n",
        "result = list(map(lambda x: (x[0], sum([i[1] * i[2] for i in x[1:]])), orders))\n",
        "print(result) "
      ]
    },
    {
      "cell_type": "markdown",
      "metadata": {},
      "source": [
        "Use python lambda and the map function to multiply every element of a list by two.\n",
        "\n",
        "li = [5, 7, 22, 97, 54, 62, 77, 23, 73, 61]\n",
        "\n",
        "output [10, 14, 44, 194, 108, 124, 154, 46, 146, 122]"
      ]
    },
    {
      "cell_type": "code",
      "execution_count": 19,
      "metadata": {},
      "outputs": [
        {
          "name": "stdout",
          "output_type": "stream",
          "text": [
            "[10, 14, 44, 194, 108, 124, 154, 46, 146, 122]\n"
          ]
        }
      ],
      "source": [
        "li = [5, 7, 22, 97, 54, 62, 77, 23, 73, 61]\n",
        "result = list(map(lambda x: x * 2, li))\n",
        "print(result)"
      ]
    },
    {
      "cell_type": "markdown",
      "metadata": {},
      "source": [
        "Write a Python program to sort a list of tuples using Lambda. Original list of tuples: [('English', 88), ('Science', 90), ('Maths', 97), ('Social sciences', 82)] Sorting the List of Tuples: [('Social sciences', 82), ('English', 88), ('Science', 90), ('Maths', 97)]"
      ]
    },
    {
      "cell_type": "code",
      "execution_count": 22,
      "metadata": {},
      "outputs": [
        {
          "data": {
            "text/plain": [
              "[('Social sciences', 82), ('English', 88), ('Science', 90), ('Maths', 97)]"
            ]
          },
          "execution_count": 22,
          "metadata": {},
          "output_type": "execute_result"
        }
      ],
      "source": [
        "og = [('English', 88), ('Science', 90), ('Maths', 97), ('Social sciences', 82)] \n",
        "sorted_list = sorted(og, key=lambda x: x[1])\n",
        "sorted_list"
      ]
    },
    {
      "cell_type": "markdown",
      "metadata": {},
      "source": [
        "Write a Python program to extract year, month, date and time using Lambda. Sample Output: 2020-01-15 09:03:32.744178 2020 1 15 09:03:32.744178"
      ]
    },
    {
      "cell_type": "code",
      "execution_count": 36,
      "metadata": {},
      "outputs": [
        {
          "data": {
            "text/plain": [
              "'2024-02-13 08:46:58.938985'"
            ]
          },
          "execution_count": 36,
          "metadata": {},
          "output_type": "execute_result"
        }
      ],
      "source": [
        "# Program to extract year, month, date, and time using Lambda\n",
        "import datetime\n",
        "now = datetime.datetime.now()\n",
        "extraction = lambda x: f\"{x.date()} {x.time()}\"\n",
        "extraction(now)"
      ]
    },
    {
      "cell_type": "markdown",
      "metadata": {},
      "source": [
        "7. Write a Python program to reverse strings in a given list of string values using lambda. \n",
        "\n",
        "\n",
        "Original lists: ['Red', 'Green', 'Blue', 'White', 'Black'] Reverse strings of the said given list: ['deR', 'neerG', 'eulB', 'etihW', 'kcalB']"
      ]
    },
    {
      "cell_type": "code",
      "execution_count": 38,
      "metadata": {},
      "outputs": [
        {
          "name": "stdout",
          "output_type": "stream",
          "text": [
            "['deR', 'neerG', 'eulB', 'etihW', 'kcalB']\n"
          ]
        }
      ],
      "source": [
        "original_list = ['Red', 'Green', 'Blue', 'White', 'Black']\n",
        "reversed_list = list(map(lambda x: x[::-1], original_list))\n",
        "print(reversed_list)"
      ]
    },
    {
      "cell_type": "markdown",
      "metadata": {},
      "source": [
        "Write a Python program to count the occurrences of items in a given list using lambda.  \n",
        " Original list: [3, 4, 5, 8, 0, 3, 8, 5, 0, 3, 1, 5, 2, 3, 4, 2] Count the occurrences of the items in the said list: {3: 4, 4: 2, 5: 3, 8: 2, 0: 2, 1: 1, 2: 2}"
      ]
    },
    {
      "cell_type": "code",
      "execution_count": 39,
      "metadata": {},
      "outputs": [
        {
          "name": "stdout",
          "output_type": "stream",
          "text": [
            "{3: 4, 4: 2, 5: 3, 8: 2, 0: 2, 1: 1, 2: 2}\n"
          ]
        }
      ],
      "source": [
        "original_list = [3, 4, 5, 8, 0, 3, 8, 5, 0, 3, 1, 5, 2, 3, 4, 2]\n",
        "\n",
        "occurrences = dict(map(lambda x: (x, original_list.count(x)), original_list))\n",
        "\n",
        "print(occurrences)"
      ]
    },
    {
      "cell_type": "markdown",
      "metadata": {},
      "source": []
    }
  ],
  "metadata": {
    "colab": {
      "collapsed_sections": [],
      "provenance": []
    },
    "kernelspec": {
      "display_name": "Python 3",
      "name": "python3"
    },
    "language_info": {
      "codemirror_mode": {
        "name": "ipython",
        "version": 3
      },
      "file_extension": ".py",
      "mimetype": "text/x-python",
      "name": "python",
      "nbconvert_exporter": "python",
      "pygments_lexer": "ipython3",
      "version": "3.10.13"
    }
  },
  "nbformat": 4,
  "nbformat_minor": 0
}
