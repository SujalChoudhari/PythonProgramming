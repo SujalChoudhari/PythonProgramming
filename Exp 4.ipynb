{
  "cells": [
    {
      "cell_type": "markdown",
      "metadata": {},
      "source": [
        "### Sujal Choudhari         \n",
        "#### 60003220216\n",
        "### IT3 (2)                 \n",
        "#### Python Programming Lab (4)"
      ]
    },
    {
      "cell_type": "markdown",
      "metadata": {},
      "source": [
        "Questions for Practical Assignment Submission"
      ]
    },
    {
      "cell_type": "markdown",
      "metadata": {},
      "source": [
        "- WA function to calculate arithmetic mean of variable number of values \n",
        "\n",
        "- WA lambda function to find largest of 2 numbers \n",
        "\n",
        "- Use lambda function to return a square value of a given number. \n",
        "\n",
        "- Write a program using filter() to filter out even numbers from a list. \n",
        "\n",
        "- Write a program using map() to filter out even numbers from a list. \n",
        "\n",
        "- Write a program using reduce() with a lambda expression to find product of elements in a list. "
      ]
    },
    {
      "cell_type": "markdown",
      "metadata": {},
      "source": [
        "Questions for Write-up\n",
        "\n",
        "1. Describe how lambda functions differ from regular functions in terms of syntax.\n",
        "2. Need for Lamda and higher order functions \n",
        "3. What is the purpose of Python's map function?\n",
        "4. How is the reduce function different from map and filter?"
      ]
    },
    {
      "cell_type": "markdown",
      "metadata": {},
      "source": [
        "### 1. WA function to calculate arithmetic mean of variable number of values "
      ]
    },
    {
      "cell_type": "code",
      "execution_count": 3,
      "metadata": {},
      "outputs": [],
      "source": [
        "import functools\n",
        "\n",
        "def mean ( *args):\n",
        "    sum = functools.reduce(lambda x,y: x + y,args)\n",
        "    print(sum / len(args))"
      ]
    },
    {
      "cell_type": "code",
      "execution_count": 4,
      "metadata": {},
      "outputs": [
        {
          "name": "stdout",
          "output_type": "stream",
          "text": [
            "53.357142857142854\n"
          ]
        }
      ],
      "source": [
        "mean(5,6,7,8,65,4,43,43,4,4,4,5,545,4)"
      ]
    },
    {
      "cell_type": "markdown",
      "metadata": {},
      "source": [
        "### 2. WA lambda function to find largest of 2 numbers "
      ]
    },
    {
      "cell_type": "code",
      "execution_count": 3,
      "metadata": {},
      "outputs": [
        {
          "data": {
            "text/plain": [
              "6"
            ]
          },
          "execution_count": 3,
          "metadata": {},
          "output_type": "execute_result"
        }
      ],
      "source": [
        "x = lambda x,y: x if x > y else y\n",
        "x(5,6)"
      ]
    },
    {
      "cell_type": "markdown",
      "metadata": {},
      "source": [
        "### 3. Use lambda function to return a square value of a given number. \n"
      ]
    },
    {
      "cell_type": "code",
      "execution_count": 4,
      "metadata": {},
      "outputs": [
        {
          "data": {
            "text/plain": [
              "25"
            ]
          },
          "execution_count": 4,
          "metadata": {},
          "output_type": "execute_result"
        }
      ],
      "source": [
        "b = lambda x: x ** 2\n",
        "b(5)"
      ]
    },
    {
      "cell_type": "markdown",
      "metadata": {},
      "source": [
        "### 4. Write a program using filter() to filter out even numbers from a list. \n"
      ]
    },
    {
      "cell_type": "code",
      "execution_count": 5,
      "metadata": {},
      "outputs": [
        {
          "data": {
            "text/plain": [
              "[6, 4, 32, 2, 2, 0, 2]"
            ]
          },
          "execution_count": 5,
          "metadata": {},
          "output_type": "execute_result"
        }
      ],
      "source": [
        "lst = [5,6,7,4,3,32,2,2,0,2]\n",
        "\n",
        "list(filter(lambda x: x % 2 ==0,lst))"
      ]
    },
    {
      "cell_type": "markdown",
      "metadata": {},
      "source": [
        "### 5. Write a program using map() to filter out even numbers from a list. \n"
      ]
    },
    {
      "cell_type": "code",
      "execution_count": 6,
      "metadata": {},
      "outputs": [
        {
          "data": {
            "text/plain": [
              "[4, 6, 8, 0, 2]"
            ]
          },
          "execution_count": 6,
          "metadata": {},
          "output_type": "execute_result"
        }
      ],
      "source": [
        "lst = [4,5,6,7,8,9,0,1,2,3]\n",
        "\n",
        "mapped = [a for a in list(map(lambda x: x if x % 2 == 0 else None,lst)) if a is not None]\n",
        "mapped"
      ]
    },
    {
      "cell_type": "markdown",
      "metadata": {},
      "source": [
        "### 6. Write a program using reduce() with a lambda expression to find product of elements in a list. "
      ]
    },
    {
      "cell_type": "code",
      "execution_count": 7,
      "metadata": {},
      "outputs": [
        {
          "data": {
            "text/plain": [
              "362880"
            ]
          },
          "execution_count": 7,
          "metadata": {},
          "output_type": "execute_result"
        }
      ],
      "source": [
        "import functools\n",
        "lst2 = [1,2,3,4,5,6,7,8,9]\n",
        "functools.reduce(lambda x,y: x * y,lst2)"
      ]
    }
  ],
  "metadata": {
    "colab": {
      "collapsed_sections": [],
      "provenance": []
    },
    "kernelspec": {
      "display_name": "Python 3",
      "name": "python3"
    },
    "language_info": {
      "codemirror_mode": {
        "name": "ipython",
        "version": 3
      },
      "file_extension": ".py",
      "mimetype": "text/x-python",
      "name": "python",
      "nbconvert_exporter": "python",
      "pygments_lexer": "ipython3",
      "version": "3.10.13"
    }
  },
  "nbformat": 4,
  "nbformat_minor": 0
}
