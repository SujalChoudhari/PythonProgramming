{
 "cells": [
  {
   "cell_type": "markdown",
   "metadata": {},
   "source": [
    "# Lists, Tuples, Dict and Numpy"
   ]
  },
  {
   "cell_type": "markdown",
   "metadata": {},
   "source": [
    "### Q1. Select Random from Lists"
   ]
  },
  {
   "cell_type": "code",
   "execution_count": 2,
   "metadata": {},
   "outputs": [],
   "source": [
    "mylist = [2,4,6,8,10]"
   ]
  },
  {
   "cell_type": "code",
   "execution_count": 3,
   "metadata": {},
   "outputs": [],
   "source": [
    "import random"
   ]
  },
  {
   "cell_type": "code",
   "execution_count": 9,
   "metadata": {},
   "outputs": [
    {
     "data": {
      "text/plain": [
       "6"
      ]
     },
     "execution_count": 9,
     "metadata": {},
     "output_type": "execute_result"
    }
   ],
   "source": [
    "random.choice(mylist)"
   ]
  },
  {
   "cell_type": "markdown",
   "metadata": {},
   "source": [
    "### Q2:. Write a Python program to count the elements in a list until an element is a tuple"
   ]
  },
  {
   "cell_type": "code",
   "execution_count": 15,
   "metadata": {},
   "outputs": [],
   "source": [
    "myotherlist = [\"1\",2,3,4,5,(2,3,4,\"tuple\"),\"notuple\"]"
   ]
  },
  {
   "cell_type": "code",
   "execution_count": 17,
   "metadata": {},
   "outputs": [
    {
     "data": {
      "text/plain": [
       "5"
      ]
     },
     "execution_count": 17,
     "metadata": {},
     "output_type": "execute_result"
    }
   ],
   "source": [
    "count =0\n",
    "for item in myotherlist:\n",
    "    if not isinstance(item,tuple):\n",
    "        count += 1\n",
    "    else:\n",
    "        break\n",
    "\n",
    "count"
   ]
  },
  {
   "cell_type": "markdown",
   "metadata": {},
   "source": [
    "### Q3: Create a dictionary of 5 countries with their currency details and display them"
   ]
  },
  {
   "cell_type": "code",
   "execution_count": 23,
   "metadata": {},
   "outputs": [
    {
     "name": "stdout",
     "output_type": "stream",
     "text": [
      "INR is the currency of India\n",
      "USD is the currency of USA\n",
      "Canadian $ is the currency of CANADA\n",
      "Yen is the currency of JAPAN\n",
      "Euro is the currency of Europe\n"
     ]
    }
   ],
   "source": [
    "country = {\n",
    "    \"India\": \"INR\",\n",
    "    \"USA\": \"USD\",\n",
    "    \"CANADA\": \"Canadian $\",\n",
    "    \"JAPAN\":\"Yen\",\n",
    "    \"Europe\": \"Euro\"\n",
    "}\n",
    "\n",
    "for k,v in country.items():\n",
    "    print(f\"{v} is the currency of {k}\")"
   ]
  },
  {
   "cell_type": "markdown",
   "metadata": {},
   "source": [
    "### Q4: Write a Python program to reverse a tuple"
   ]
  },
  {
   "cell_type": "code",
   "execution_count": 24,
   "metadata": {},
   "outputs": [],
   "source": [
    "mytuple = (\"Hello\", \"World\", \"Is\", \"This\")"
   ]
  },
  {
   "cell_type": "code",
   "execution_count": 38,
   "metadata": {},
   "outputs": [
    {
     "data": {
      "text/plain": [
       "('This', 'Is', 'World', 'Hello')"
      ]
     },
     "execution_count": 38,
     "metadata": {},
     "output_type": "execute_result"
    }
   ],
   "source": [
    "converted_list = list(mytuple)\n",
    "converted_list.reverse()\n",
    "new_tuple = tuple(converted_list)\n",
    "new_tuple"
   ]
  },
  {
   "cell_type": "markdown",
   "metadata": {},
   "source": [
    "## Numpy Questions"
   ]
  },
  {
   "cell_type": "markdown",
   "metadata": {},
   "source": [
    "### Q5: Create a Numpy array filled with all ones"
   ]
  },
  {
   "cell_type": "code",
   "execution_count": 39,
   "metadata": {},
   "outputs": [],
   "source": [
    "import numpy as np"
   ]
  },
  {
   "cell_type": "code",
   "execution_count": 42,
   "metadata": {},
   "outputs": [
    {
     "data": {
      "text/plain": [
       "array([1, 1, 1, 1, 1, 1, 1, 1, 1, 1])"
      ]
     },
     "execution_count": 42,
     "metadata": {},
     "output_type": "execute_result"
    }
   ],
   "source": [
    "all_one = np.empty(10,dtype=int)\n",
    "all_one.fill(1)\n",
    "all_one"
   ]
  },
  {
   "cell_type": "markdown",
   "metadata": {},
   "source": [
    "### Q6: Check whether a Numpy array contains a specified row"
   ]
  },
  {
   "cell_type": "code",
   "execution_count": 58,
   "metadata": {},
   "outputs": [],
   "source": [
    "multi_array = np.array([[1,2,3],[3,4,5],[5,6,7]])\n",
    "specified_row = [1,2,3]\n",
    "# specified_row = [1,2,4]"
   ]
  },
  {
   "cell_type": "code",
   "execution_count": 59,
   "metadata": {},
   "outputs": [
    {
     "name": "stdout",
     "output_type": "stream",
     "text": [
      "Yup\n"
     ]
    }
   ],
   "source": [
    "if specified_row in multi_array.tolist():\n",
    "    print(\"Yup\")\n",
    "else: print(\"Nope\")"
   ]
  },
  {
   "cell_type": "markdown",
   "metadata": {},
   "source": [
    "### Q7: Compute mathematical operations on Array, Add & Multiply two matrices"
   ]
  },
  {
   "cell_type": "code",
   "execution_count": 61,
   "metadata": {},
   "outputs": [],
   "source": [
    "m1 = np.array([[2,0],[0,2]],dtype=float)\n",
    "m2 = np.array([[5,3],[10,34]],dtype=float)"
   ]
  },
  {
   "cell_type": "code",
   "execution_count": 66,
   "metadata": {},
   "outputs": [
    {
     "name": "stdout",
     "output_type": "stream",
     "text": [
      "Multiplication is\n",
      " [[10.  0.]\n",
      " [ 0. 68.]]\n",
      "\n",
      "\n",
      "Addition is\n",
      " [[ 7.  3.]\n",
      " [10. 36.]]\n"
     ]
    }
   ],
   "source": [
    "m3 = m1 * m2\n",
    "m4 = m1 + m2\n",
    "print(f\"Multiplication is\\n {m3}\")\n",
    "print(f\"\\n\\nAddition is\\n {m4}\")"
   ]
  },
  {
   "cell_type": "markdown",
   "metadata": {},
   "source": [
    "### Q8: Find the most frequent value in a NumPy array"
   ]
  },
  {
   "cell_type": "code",
   "execution_count": 74,
   "metadata": {},
   "outputs": [
    {
     "data": {
      "text/plain": [
       "6"
      ]
     },
     "execution_count": 74,
     "metadata": {},
     "output_type": "execute_result"
    }
   ],
   "source": [
    "np_array = np.array([2,3,4,5,6,66,6,6,6,6,6,6,6,6,6,6,6,6,6,6,4,4,4,4,2,2,2,2,0,2,3,4,5,5,1])\n",
    "np.bincount(np_array).argmax()"
   ]
  },
  {
   "cell_type": "markdown",
   "metadata": {},
   "source": [
    "### Q9: Flatten a 2d numpy array into ld array"
   ]
  },
  {
   "cell_type": "code",
   "execution_count": 75,
   "metadata": {},
   "outputs": [
    {
     "data": {
      "text/plain": [
       "array([2, 3, 4, 6, 2, 3, 4, 6])"
      ]
     },
     "execution_count": 75,
     "metadata": {},
     "output_type": "execute_result"
    }
   ],
   "source": [
    "np_arr = np.array([[2,3,4,6],[2,3,4,6]])\n",
    "np_arr.flatten()"
   ]
  },
  {
   "cell_type": "markdown",
   "metadata": {},
   "source": [
    "### Q10:  Calculate the sum of all columns in a 2D NumPy array"
   ]
  },
  {
   "cell_type": "code",
   "execution_count": 77,
   "metadata": {},
   "outputs": [
    {
     "name": "stdout",
     "output_type": "stream",
     "text": [
      "[[ 1  2  3]\n",
      " [ 4  5  6]\n",
      " [ 7  8  9]\n",
      " [10 11 12]]\n",
      "22 26 30 "
     ]
    }
   ],
   "source": [
    "def colsum(arr, n, m):\n",
    "    for i in range(n):\n",
    "        su = 0;\n",
    "        for j in range(m):\n",
    "            su += arr[j][i]\n",
    "        print(su, end = \" \")    \n",
    " \n",
    "TwoDList = [[1, 2, 3], [4, 5, 6], \n",
    "            [7, 8, 9], [10, 11, 12]]\n",
    "TwoDArray = np.array(TwoDList)\n",
    " \n",
    "print(TwoDArray)\n",
    " \n",
    "colsum(TwoDArray, len(TwoDArray[0]), len(TwoDArray))"
   ]
  },
  {
   "cell_type": "markdown",
   "metadata": {},
   "source": [
    "### Q11: Calculate the average, variance and standard deviation in Python using NumPy"
   ]
  },
  {
   "cell_type": "code",
   "execution_count": 82,
   "metadata": {},
   "outputs": [
    {
     "data": {
      "text/plain": [
       "(11.583333333333334, 229.24305555555551, 15.140774602230744)"
      ]
     },
     "execution_count": 82,
     "metadata": {},
     "output_type": "execute_result"
    }
   ],
   "source": [
    "arr = np.array([2,3,4,5,6,7,7,7,6,54,4,34])\n",
    "\n",
    "np.average(arr),np.var(arr),np.std(arr)"
   ]
  },
  {
   "cell_type": "markdown",
   "metadata": {},
   "source": [
    "### Q12: Insert a space between characters of all the elements of a given NumPy array?"
   ]
  },
  {
   "cell_type": "code",
   "execution_count": 83,
   "metadata": {},
   "outputs": [
    {
     "data": {
      "text/plain": [
       "'a b c'"
      ]
     },
     "execution_count": 83,
     "metadata": {},
     "output_type": "execute_result"
    }
   ],
   "source": [
    "arr = np.array(['a','b','c'])\n",
    "\n",
    "\" \".join(arr.tolist())"
   ]
  },
  {
   "cell_type": "code",
   "execution_count": null,
   "metadata": {},
   "outputs": [],
   "source": []
  }
 ],
 "metadata": {
  "kernelspec": {
   "display_name": "Python 3 (ipykernel)",
   "language": "python",
   "name": "python3"
  },
  "language_info": {
   "codemirror_mode": {
    "name": "ipython",
    "version": 3
   },
   "file_extension": ".py",
   "mimetype": "text/x-python",
   "name": "python",
   "nbconvert_exporter": "python",
   "pygments_lexer": "ipython3",
   "version": "3.10.13"
  }
 },
 "nbformat": 4,
 "nbformat_minor": 2
}
