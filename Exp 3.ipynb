{
 "cells": [
  {
   "cell_type": "markdown",
   "metadata": {},
   "source": [
    "## Sujal Vivek Choudhari\n",
    "### **60003220216** IT3 - batch 2\n",
    "### Python Programming Laboratory - **Experiment 3**"
   ]
  },
  {
   "cell_type": "markdown",
   "metadata": {},
   "source": [
    "#### A. Decision-making statements"
   ]
  },
  {
   "cell_type": "markdown",
   "metadata": {},
   "source": [
    "1. Write Python code that asks:x1,x2,y1,y2   \n",
    "And Calculate the slope of the line slope=(y2-y1)/(x2-x1)   \n",
    "· If the slope is positive, print “positive slope”.   \n",
    "· If the slope is negative, print “negative slope”.   \n",
    "· If the slope is zero, print “horizontal line”.   \n",
    "· If the denominator is 0, print “vertical line”.   "
   ]
  },
  {
   "cell_type": "code",
   "execution_count": 1,
   "metadata": {},
   "outputs": [],
   "source": [
    "x1 = int(input(\"Enter x1: \"))\n",
    "x2 = int(input(\"Enter x2: \"))\n",
    "y1 = int(input(\"Enter y1: \"))\n",
    "y2 = int(input(\"Enter y2: \"))"
   ]
  },
  {
   "cell_type": "code",
   "execution_count": 2,
   "metadata": {},
   "outputs": [],
   "source": [
    "if x2-x1 == 0:\n",
    "    print(\"Vertical Line\")\n",
    "    exit(0)"
   ]
  },
  {
   "cell_type": "code",
   "execution_count": 3,
   "metadata": {},
   "outputs": [
    {
     "name": "stdout",
     "output_type": "stream",
     "text": [
      "Positive\n"
     ]
    }
   ],
   "source": [
    "\n",
    "slope = (y2-y1)/(x2-x1)\n",
    "\n",
    "if slope > 0:\n",
    "    print(\"Positive\")\n",
    "elif slope <0:\n",
    "    print(\"Negetive\")\n",
    "else:\n",
    "    print(\"Horizontal Line\")"
   ]
  },
  {
   "cell_type": "markdown",
   "metadata": {},
   "source": [
    "2. Use a while loop to display a table of Celsius temperatures from 20 to 10 and their   \n",
    "Fahrenheit equivalents.   \n",
    "The formula for converting a temperature from Celsius to Fahrenheit is:   \n",
    "F=(9/5)*C+32  "
   ]
  },
  {
   "cell_type": "code",
   "execution_count": 4,
   "metadata": {},
   "outputs": [
    {
     "name": "stdout",
     "output_type": "stream",
     "text": [
      " C: 20 \t F:68.0\n",
      " C: 19 \t F:66.2\n",
      " C: 18 \t F:64.4\n",
      " C: 17 \t F:62.6\n",
      " C: 16 \t F:60.8\n",
      " C: 15 \t F:59.0\n",
      " C: 14 \t F:57.2\n",
      " C: 13 \t F:55.400000000000006\n",
      " C: 12 \t F:53.6\n",
      " C: 11 \t F:51.8\n",
      " C: 10 \t F:50.0\n"
     ]
    }
   ],
   "source": [
    "i = 20\n",
    "while i >= 10:\n",
    "    print(f\" C: {i} \\t F:{(9/5)*i+32}\")\n",
    "    i -=1"
   ]
  },
  {
   "cell_type": "markdown",
   "metadata": {},
   "source": [
    "3. Write a Python program to create a list of integers with repetitions and display the list of   \n",
    "pairs as follows:   \n",
    "for each number n that appears in l, there should be exactly one pair (n,r) in the output list where   \n",
    "r is the number of repetitions of n in l. The final list should be sorted in ascending order by r, the   \n",
    "number of repetitions.   \n",
    "For instance:   \n",
    "INPUT: ([13,12,11,13,14,13,7,7,13,14,12])   \n",
    "OUTPUT: [(11, 1), (7, 2), (12, 2), (14, 2), (13, 4)]   \n",
    "Hints:  \n",
    "    1.  Use for loop to iterate the list   \n",
    "    2.  Create a temporary dictionary or list any data structure to store answer   \n",
    "    3.  check if list items are already in the temporary dictionary/list or not ,maintain the occurrence accordingly  "
   ]
  },
  {
   "cell_type": "code",
   "execution_count": 5,
   "metadata": {},
   "outputs": [],
   "source": [
    "input = [13,12,11,13,14,13,7,7,13,14,12]"
   ]
  },
  {
   "cell_type": "code",
   "execution_count": 20,
   "metadata": {},
   "outputs": [],
   "source": [
    "temp = {}\n",
    "\n",
    "for i in input:\n",
    "    if(i in temp.keys()):\n",
    "        temp[i] += 1\n",
    "    else:\n",
    "        temp[i] = 1"
   ]
  },
  {
   "cell_type": "code",
   "execution_count": 7,
   "metadata": {},
   "outputs": [],
   "source": [
    "\n",
    "tuples = [(k,v) for k,v in temp.items() ]\n",
    "sotted = sorted(tuples,key=lambda x: x[1])"
   ]
  },
  {
   "cell_type": "code",
   "execution_count": 8,
   "metadata": {},
   "outputs": [
    {
     "data": {
      "text/plain": [
       "[(11, 1), (12, 2), (14, 2), (7, 2), (13, 4)]"
      ]
     },
     "execution_count": 8,
     "metadata": {},
     "output_type": "execute_result"
    }
   ],
   "source": [
    "sotted"
   ]
  },
  {
   "cell_type": "markdown",
   "metadata": {},
   "source": [
    "### B. Program using Functions"
   ]
  },
  {
   "cell_type": "markdown",
   "metadata": {},
   "source": [
    "1. Write a function to check if a given number is prime or not.\n",
    "2. Write a python program to calculate factorial value of numbers  \n",
    "    a. Without recursive function  \n",
    "    b. With Recursive function"
   ]
  },
  {
   "cell_type": "code",
   "execution_count": 11,
   "metadata": {},
   "outputs": [],
   "source": [
    "def is_prime(num):\n",
    "    if num == 0:\n",
    "        return False\n",
    "    elif num == 1:\n",
    "        return True\n",
    "    \n",
    "    for i in range(2, int(num / 2 +1) ):\n",
    "        if (num % i) == 0 :\n",
    "            return False\n",
    "        \n",
    "    return True"
   ]
  },
  {
   "cell_type": "code",
   "execution_count": 17,
   "metadata": {},
   "outputs": [],
   "source": [
    "def fac_recc(num):\n",
    "    if num <= 1:\n",
    "        return num\n",
    "    else: return num * fac_recc(num -1)"
   ]
  },
  {
   "cell_type": "code",
   "execution_count": 18,
   "metadata": {},
   "outputs": [
    {
     "data": {
      "text/plain": [
       "120"
      ]
     },
     "execution_count": 18,
     "metadata": {},
     "output_type": "execute_result"
    }
   ],
   "source": [
    "fac_recc(5)"
   ]
  },
  {
   "cell_type": "code",
   "execution_count": 22,
   "metadata": {},
   "outputs": [
    {
     "ename": "TypeError",
     "evalue": "'list' object is not callable",
     "output_type": "error",
     "traceback": [
      "\u001b[0;31m---------------------------------------------------------------------------\u001b[0m",
      "\u001b[0;31mTypeError\u001b[0m                                 Traceback (most recent call last)",
      "Cell \u001b[0;32mIn[22], line 1\u001b[0m\n\u001b[0;32m----> 1\u001b[0m ab \u001b[38;5;241m=\u001b[39m \u001b[38;5;28mint\u001b[39m(\u001b[38;5;28;43minput\u001b[39;49m\u001b[43m(\u001b[49m\u001b[38;5;124;43m\"\u001b[39;49m\u001b[38;5;124;43mEnter Fac Num:\u001b[39;49m\u001b[38;5;124;43m\"\u001b[39;49m\u001b[43m)\u001b[49m)\n\u001b[1;32m      2\u001b[0m fact \u001b[38;5;241m=\u001b[39m\u001b[38;5;241m1\u001b[39m\n\u001b[1;32m      3\u001b[0m \u001b[38;5;28;01mfor\u001b[39;00m i \u001b[38;5;129;01min\u001b[39;00m \u001b[38;5;28mrange\u001b[39m(\u001b[38;5;241m1\u001b[39m,ab):\n",
      "\u001b[0;31mTypeError\u001b[0m: 'list' object is not callable"
     ]
    }
   ],
   "source": [
    "ab = int(input(\"Enter Fac Num:\"))\n",
    "fact =1\n",
    "for i in range(1,ab):\n",
    "    fact *= i\n",
    "    \n",
    "fact"
   ]
  },
  {
   "cell_type": "code",
   "execution_count": null,
   "metadata": {},
   "outputs": [],
   "source": []
  }
 ],
 "metadata": {
  "kernelspec": {
   "display_name": "Python 3",
   "language": "python",
   "name": "python3"
  },
  "language_info": {
   "codemirror_mode": {
    "name": "ipython",
    "version": 3
   },
   "file_extension": ".py",
   "mimetype": "text/x-python",
   "name": "python",
   "nbconvert_exporter": "python",
   "pygments_lexer": "ipython3",
   "version": "3.10.13"
  }
 },
 "nbformat": 4,
 "nbformat_minor": 2
}
